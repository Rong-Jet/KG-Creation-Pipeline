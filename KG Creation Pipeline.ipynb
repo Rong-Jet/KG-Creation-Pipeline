{
 "cells": [
  {
   "cell_type": "markdown",
   "metadata": {},
   "source": [
    "# KG CREATION PIPELINE\n",
    "\n",
    "This is a tool that allows the creation of a robust ontology-based knowledge graph from unstrctured input. The knowledge graph will be stored in Neo4j.\n",
    "\n",
    "## FOR REFERENCE:\n",
    "\n",
    "TKGCon: \n",
    "https://medium.com/@researchgraph/automated-knowledge-graph-construction-with-large-language-models-part-2-b107ca8ec5ea\n",
    "\n",
    "Entity Resolution: \n",
    "https://towardsdatascience.com/entity-resolution-identifying-real-world-entities-in-noisy-data-3e8c59f4f41c\n",
    "\n",
    "### GOALS\n",
    "1. Multimodal input\n",
    "2. Self-augmentation from user queries and automated web search\n",
    "3. Agents and tools\n",
    "\n",
    "### PROCESS\n",
    "\n",
    "![TKGCon](Markdown_Images\\TKGCon.png)\n",
    "1. PDF to image extraction and generation of description in unstructured text\n",
    "2. Text splitting and storage in local vector database\n",
    "3. Creation of unrefined triples\n",
    "3. Determination of themes\n",
    "4. Ontology creation based on themes (Human in-the-loop)\n",
    "5. Knowledge graph construction "
   ]
  },
  {
   "cell_type": "markdown",
   "metadata": {},
   "source": [
    "## INSTALLING DEPENDENCIES"
   ]
  },
  {
   "cell_type": "code",
   "execution_count": 1,
   "metadata": {},
   "outputs": [
    {
     "name": "stdout",
     "output_type": "stream",
     "text": [
      "Requirement already satisfied: pdf2image==1.17.0 in c:\\users\\acer\\desktop\\coding\\kg creation pipeline\\.conda\\lib\\site-packages (1.17.0)\n",
      "Requirement already satisfied: openai==1.30.1 in c:\\users\\acer\\desktop\\coding\\kg creation pipeline\\.conda\\lib\\site-packages (1.30.1)\n",
      "Requirement already satisfied: tiktoken==0.7.0 in c:\\users\\acer\\desktop\\coding\\kg creation pipeline\\.conda\\lib\\site-packages (0.7.0)\n",
      "Requirement already satisfied: python-dotenv==1.0.1 in c:\\users\\acer\\desktop\\coding\\kg creation pipeline\\.conda\\lib\\site-packages (1.0.1)\n",
      "Requirement already satisfied: pandas==2.2.2 in c:\\users\\acer\\desktop\\coding\\kg creation pipeline\\.conda\\lib\\site-packages (2.2.2)\n",
      "Requirement already satisfied: langchain==0.2.11 in c:\\users\\acer\\desktop\\coding\\kg creation pipeline\\.conda\\lib\\site-packages (0.2.11)\n",
      "Requirement already satisfied: langchain-community==0.2.10 in c:\\users\\acer\\desktop\\coding\\kg creation pipeline\\.conda\\lib\\site-packages (0.2.10)\n",
      "Requirement already satisfied: langchain-openai==0.1.17 in c:\\users\\acer\\desktop\\coding\\kg creation pipeline\\.conda\\lib\\site-packages (0.1.17)\n",
      "Requirement already satisfied: langchain-experimental==0.0.63 in c:\\users\\acer\\desktop\\coding\\kg creation pipeline\\.conda\\lib\\site-packages (0.0.63)\n",
      "Requirement already satisfied: neo4j==5.22.0 in c:\\users\\acer\\desktop\\coding\\kg creation pipeline\\.conda\\lib\\site-packages (5.22.0)\n",
      "Requirement already satisfied: langchain-chroma==0.1.2 in c:\\users\\acer\\desktop\\coding\\kg creation pipeline\\.conda\\lib\\site-packages (0.1.2)\n",
      "Requirement already satisfied: pillow in c:\\users\\acer\\desktop\\coding\\kg creation pipeline\\.conda\\lib\\site-packages (from pdf2image==1.17.0) (10.4.0)\n",
      "Requirement already satisfied: anyio<5,>=3.5.0 in c:\\users\\acer\\desktop\\coding\\kg creation pipeline\\.conda\\lib\\site-packages (from openai==1.30.1) (4.4.0)\n",
      "Requirement already satisfied: distro<2,>=1.7.0 in c:\\users\\acer\\desktop\\coding\\kg creation pipeline\\.conda\\lib\\site-packages (from openai==1.30.1) (1.9.0)\n",
      "Requirement already satisfied: httpx<1,>=0.23.0 in c:\\users\\acer\\desktop\\coding\\kg creation pipeline\\.conda\\lib\\site-packages (from openai==1.30.1) (0.27.0)\n",
      "Requirement already satisfied: pydantic<3,>=1.9.0 in c:\\users\\acer\\desktop\\coding\\kg creation pipeline\\.conda\\lib\\site-packages (from openai==1.30.1) (2.8.2)\n",
      "Requirement already satisfied: sniffio in c:\\users\\acer\\desktop\\coding\\kg creation pipeline\\.conda\\lib\\site-packages (from openai==1.30.1) (1.3.1)\n",
      "Requirement already satisfied: tqdm>4 in c:\\users\\acer\\desktop\\coding\\kg creation pipeline\\.conda\\lib\\site-packages (from openai==1.30.1) (4.66.4)\n",
      "Requirement already satisfied: typing-extensions<5,>=4.7 in c:\\users\\acer\\desktop\\coding\\kg creation pipeline\\.conda\\lib\\site-packages (from openai==1.30.1) (4.12.2)\n",
      "Requirement already satisfied: regex>=2022.1.18 in c:\\users\\acer\\desktop\\coding\\kg creation pipeline\\.conda\\lib\\site-packages (from tiktoken==0.7.0) (2024.7.24)\n",
      "Requirement already satisfied: requests>=2.26.0 in c:\\users\\acer\\desktop\\coding\\kg creation pipeline\\.conda\\lib\\site-packages (from tiktoken==0.7.0) (2.32.3)\n",
      "Requirement already satisfied: numpy>=1.26.0 in c:\\users\\acer\\desktop\\coding\\kg creation pipeline\\.conda\\lib\\site-packages (from pandas==2.2.2) (1.26.4)\n",
      "Requirement already satisfied: python-dateutil>=2.8.2 in c:\\users\\acer\\desktop\\coding\\kg creation pipeline\\.conda\\lib\\site-packages (from pandas==2.2.2) (2.9.0)\n",
      "Requirement already satisfied: pytz>=2020.1 in c:\\users\\acer\\desktop\\coding\\kg creation pipeline\\.conda\\lib\\site-packages (from pandas==2.2.2) (2024.1)\n",
      "Requirement already satisfied: tzdata>=2022.7 in c:\\users\\acer\\desktop\\coding\\kg creation pipeline\\.conda\\lib\\site-packages (from pandas==2.2.2) (2024.1)\n",
      "Requirement already satisfied: PyYAML>=5.3 in c:\\users\\acer\\desktop\\coding\\kg creation pipeline\\.conda\\lib\\site-packages (from langchain==0.2.11) (6.0.1)\n",
      "Requirement already satisfied: SQLAlchemy<3,>=1.4 in c:\\users\\acer\\desktop\\coding\\kg creation pipeline\\.conda\\lib\\site-packages (from langchain==0.2.11) (2.0.31)\n",
      "Requirement already satisfied: aiohttp<4.0.0,>=3.8.3 in c:\\users\\acer\\desktop\\coding\\kg creation pipeline\\.conda\\lib\\site-packages (from langchain==0.2.11) (3.9.5)\n",
      "Requirement already satisfied: langchain-core<0.3.0,>=0.2.23 in c:\\users\\acer\\desktop\\coding\\kg creation pipeline\\.conda\\lib\\site-packages (from langchain==0.2.11) (0.2.23)\n",
      "Requirement already satisfied: langchain-text-splitters<0.3.0,>=0.2.0 in c:\\users\\acer\\desktop\\coding\\kg creation pipeline\\.conda\\lib\\site-packages (from langchain==0.2.11) (0.2.2)\n",
      "Requirement already satisfied: langsmith<0.2.0,>=0.1.17 in c:\\users\\acer\\desktop\\coding\\kg creation pipeline\\.conda\\lib\\site-packages (from langchain==0.2.11) (0.1.93)\n",
      "Requirement already satisfied: tenacity!=8.4.0,<9.0.0,>=8.1.0 in c:\\users\\acer\\desktop\\coding\\kg creation pipeline\\.conda\\lib\\site-packages (from langchain==0.2.11) (8.5.0)\n",
      "Requirement already satisfied: dataclasses-json<0.7,>=0.5.7 in c:\\users\\acer\\desktop\\coding\\kg creation pipeline\\.conda\\lib\\site-packages (from langchain-community==0.2.10) (0.6.7)\n",
      "INFO: pip is looking at multiple versions of langchain-openai to determine which version is compatible with other requirements. This could take a while.\n",
      "\n",
      "The conflict is caused by:\n",
      "    The user requested openai==1.30.1\n",
      "    langchain-openai 0.1.17 depends on openai<2.0.0 and >=1.32.0\n",
      "\n",
      "To fix this you could try to:\n",
      "1. loosen the range of package versions you've specified\n",
      "2. remove package versions to allow pip attempt to solve the dependency conflict\n",
      "\n",
      "Note: you may need to restart the kernel to use updated packages.\n"
     ]
    },
    {
     "name": "stderr",
     "output_type": "stream",
     "text": [
      "ERROR: Cannot install langchain-openai==0.1.17 and openai==1.30.1 because these package versions have conflicting dependencies.\n",
      "ERROR: ResolutionImpossible: for help visit https://pip.pypa.io/en/latest/topics/dependency-resolution/#dealing-with-dependency-conflicts\n"
     ]
    }
   ],
   "source": [
    "%pip install pdf2image==1.17.0 openai==1.30.1 tiktoken==0.7.0 python-dotenv==1.0.1 pandas==2.2.2 langchain==0.2.11 langchain-community==0.2.10 langchain-openai==0.1.17 langchain-experimental==0.0.63 neo4j==5.22.0 langchain-chroma==0.1.2"
   ]
  },
  {
   "cell_type": "markdown",
   "metadata": {},
   "source": [
    "## SETUP"
   ]
  },
  {
   "cell_type": "code",
   "execution_count": 3,
   "metadata": {},
   "outputs": [],
   "source": [
    "import tempfile\n",
    "import os\n",
    "import json\n",
    "import base64\n",
    "import requests\n",
    "import tempfile\n",
    "from dotenv import load_dotenv\n",
    "from openai import OpenAI\n",
    "from IPython.display import display, Math, Markdown\n",
    "from pdf2image import convert_from_path, convert_from_bytes\n",
    "from pdf2image.exceptions import (\n",
    "    PDFInfoNotInstalledError,\n",
    "    PDFPageCountError,\n",
    "    PDFSyntaxError\n",
    ")\n",
    "\n",
    "from langchain_core.runnables import (\n",
    "    RunnableBranch,\n",
    "    RunnableLambda,\n",
    "    RunnableParallel,\n",
    "    RunnablePassthrough,\n",
    ")\n",
    "from langchain_core.prompts import ChatPromptTemplate\n",
    "from langchain_core.prompts.prompt import PromptTemplate\n",
    "from langchain_core.pydantic_v1 import BaseModel, Field\n",
    "from typing import Tuple, List, Optional\n",
    "from langchain_core.messages import AIMessage, HumanMessage\n",
    "from langchain_core.output_parsers import StrOutputParser\n",
    "from langchain_community.graphs import Neo4jGraph\n",
    "from langchain.document_loaders import WikipediaLoader\n",
    "from langchain.text_splitter import TokenTextSplitter\n",
    "from langchain_openai import ChatOpenAI\n",
    "from langchain_experimental.graph_transformers import LLMGraphTransformer\n",
    "from neo4j import GraphDatabase\n",
    "from langchain_community.vectorstores import Neo4jVector\n",
    "from langchain_openai import OpenAIEmbeddings\n",
    "from langchain_community.vectorstores.neo4j_vector import remove_lucene_chars\n",
    "from langchain_core.runnables import ConfigurableField, RunnableParallel, RunnablePassthrough\n",
    "import tiktoken\n",
    "\n",
    "import pandas as pd\n",
    "import numpy as np\n",
    "from langchain.document_loaders import PyPDFLoader, UnstructuredPDFLoader, PyPDFium2Loader\n",
    "from langchain.document_loaders import PyPDFDirectoryLoader, DirectoryLoader\n",
    "from langchain.text_splitter import RecursiveCharacterTextSplitter\n",
    "from pathlib import Path\n",
    "import random\n",
    "\n",
    "load_dotenv('KG.env')\n",
    "api_key = os.getenv('OPENAI_API_KEY')"
   ]
  }
 ],
 "metadata": {
  "kernelspec": {
   "display_name": "Python 3",
   "language": "python",
   "name": "python3"
  },
  "language_info": {
   "codemirror_mode": {
    "name": "ipython",
    "version": 3
   },
   "file_extension": ".py",
   "mimetype": "text/x-python",
   "name": "python",
   "nbconvert_exporter": "python",
   "pygments_lexer": "ipython3",
   "version": "3.12.4"
  }
 },
 "nbformat": 4,
 "nbformat_minor": 2
}
